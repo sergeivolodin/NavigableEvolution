{
 "cells": [
  {
   "cell_type": "code",
   "execution_count": 1,
   "metadata": {
    "collapsed": true
   },
   "outputs": [],
   "source": [
    "import numpy as np\n",
    "from tqdm import tqdm\n",
    "%matplotlib inline\n",
    "from matplotlib import pyplot as plt"
   ]
  },
  {
   "cell_type": "code",
   "execution_count": 2,
   "metadata": {},
   "outputs": [],
   "source": [
    "# distance and its tests\n",
    "def distance(N, node_1, node_2):\n",
    "    ''' Distance from node_1 to node_2 via the base graph '''\n",
    "    if node_1 >= node_2: return node_1 - node_2\n",
    "    else: return N - node_2 + node_1\n",
    "\n",
    "# some simple tests for the distance    \n",
    "assert distance(5, 4, 3) == 1\n",
    "assert distance(5, 0, 4) == 1\n",
    "assert distance(5, 3, 4) == 4\n",
    "assert distance(5, 1, 4) == 2"
   ]
  },
  {
   "cell_type": "code",
   "execution_count": 3,
   "metadata": {},
   "outputs": [],
   "source": [
    "def navigation(source, destination, shortcuts):\n",
    "    ''' Perform greedy routing on the ring graph s->d using shortcuts or base graph '''\n",
    "    \n",
    "    # number of nodes\n",
    "    N = len(shortcuts)\n",
    "    \n",
    "    # initial vertex\n",
    "    current_vertex = source\n",
    "    \n",
    "    # path\n",
    "    path = [current_vertex]\n",
    "    \n",
    "    # waiting until done\n",
    "    while current_vertex != destination:\n",
    "        # going down or via the shortcut\n",
    "        option_0 = (current_vertex - 1) % N\n",
    "        option_1 = shortcuts[current_vertex]\n",
    "\n",
    "        # -1 means no shortcut\n",
    "        if option_1 < 0:\n",
    "            options = [option_0]\n",
    "        else:\n",
    "            # all options\n",
    "            options = [option_0, option_1]\n",
    "        \n",
    "        # distances from option to destination\n",
    "        distances = [distance(N, x, destination) for x in options]\n",
    "        \n",
    "        # GREEDY: choosing the least distance\n",
    "        choice = options[np.argmin(distances)]\n",
    "        \n",
    "        # updating current vertex\n",
    "        current_vertex = choice\n",
    "        path.append(current_vertex)\n",
    "        \n",
    "    # returing path\n",
    "    return path\n",
    "\n",
    "# simple tests\n",
    "N = 5\n",
    "\n",
    "# all lead to 0\n",
    "shortcuts = [0, 0, 0, 0, 0]\n",
    "assert navigation(4, 0, shortcuts) == [4, 0]\n",
    "\n",
    "# all lead to 4\n",
    "shortcuts = [4, 4, 4, 4, 4]\n",
    "assert navigation(4, 0, shortcuts) == [4, 3, 2, 1, 0]\n",
    "\n",
    "# shortcut 3->1\n",
    "shortcuts = [4, 4, 4, 1, 4]\n",
    "assert navigation(4, 0, shortcuts) == [4, 3, 1, 0]\n",
    "\n",
    "# no shortcuts\n",
    "shortcuts = [-1, -1, -1, -1, -1]\n",
    "assert navigation(4, 0, shortcuts) == [4, 3, 2, 1, 0]"
   ]
  },
  {
   "cell_type": "code",
   "execution_count": 4,
   "metadata": {
    "collapsed": true
   },
   "outputs": [],
   "source": [
    "def get_tau(shortcuts, repetitions = 100, tqdm = lambda x : x):\n",
    "    ''' Perform routing from random to random points using shortcuts and return routing times '''\n",
    "    \n",
    "    # resulting times\n",
    "    results = []\n",
    "    \n",
    "    # number of nodes\n",
    "    N = len(shortcuts)\n",
    "    \n",
    "    # loop over repetitions\n",
    "    for i in tqdm(range(repetitions)):\n",
    "        # choosing s and d\n",
    "        source = np.random.choice(range(N))\n",
    "        destination = np.random.choice(range(N))\n",
    "        \n",
    "        # performing navigation\n",
    "        t = navigation(source, destination, shortcuts)\n",
    "        \n",
    "        # storing its length\n",
    "        results.append(len(t))\n",
    "        \n",
    "    # returing array of times\n",
    "    return results"
   ]
  },
  {
   "cell_type": "code",
   "execution_count": 5,
   "metadata": {
    "collapsed": true
   },
   "outputs": [],
   "source": [
    "def rewire_1(shortcuts, p):\n",
    "    # number of nodes\n",
    "    N = len(shortcuts)\n",
    "    \n",
    "    # choosing source and destination at random\n",
    "    source = np.random.choice(range(N))\n",
    "    destination = np.random.choice(range(N))\n",
    "    \n",
    "    # doing nothing in degenerate case\n",
    "    if source == destination:\n",
    "        return np.copy(shortcuts)\n",
    "    \n",
    "    # performing a greedy walk\n",
    "    walk = navigation(source, destination, shortcuts)\n",
    "    \n",
    "    # choosing vertices to rewire\n",
    "    do_rewire = np.random.rand(len(walk)) <= p\n",
    "    \n",
    "    # creating a copy of shortcuts\n",
    "    new_shortcuts = np.copy(shortcuts)\n",
    "    \n",
    "    # rewiring vertices\n",
    "    for i, vertex in enumerate(walk):\n",
    "        # if selected with prob. p, set to destination\n",
    "        if do_rewire[i]: new_shortcuts[vertex] = destination\n",
    "            \n",
    "    # returning result\n",
    "    return new_shortcuts"
   ]
  },
  {
   "cell_type": "markdown",
   "metadata": {},
   "source": [
    "## Demo: decay of $\\tau$ while rewiring"
   ]
  },
  {
   "cell_type": "code",
   "execution_count": 6,
   "metadata": {},
   "outputs": [
    {
     "name": "stderr",
     "output_type": "stream",
     "text": [
      "100%|██████████| 3000/3000 [01:32<00:00, 32.45it/s]\n"
     ]
    }
   ],
   "source": [
    "# number of vertices in the ring graph\n",
    "# Vertices: 0, ..., N-1\n",
    "# connections (base graph): x+1 -> x and 0 -> N - 1\n",
    "# + shortcuts\n",
    "N = 20000\n",
    "\n",
    "# choosing the rewiring probability\n",
    "p = 0.1\n",
    "\n",
    "# initially have no shortcuts\n",
    "shortcuts = [-1] * N\n",
    "\n",
    "# choosing number of repetitions for tau estimation\n",
    "repetitions = 50\n",
    "\n",
    "# choosing number of rewirings\n",
    "rewirings = 3000\n",
    "\n",
    "# experiment\n",
    "tau_means = []\n",
    "tau_stds = []\n",
    "\n",
    "# estimate tau each K iterations\n",
    "K = 100\n",
    "\n",
    "for i in tqdm(range(rewirings)):\n",
    "    shortcuts = rewire_1(shortcuts, p)\n",
    "    if i % K == 0 and i > 0:\n",
    "        tau = get_tau(shortcuts, repetitions = repetitions)\n",
    "        tau_means.append(np.mean(tau))\n",
    "        tau_stds.append(np.std(tau))\n",
    "    #print('Iteration %d, tau = %f' % (i, tau_mean))"
   ]
  },
  {
   "cell_type": "code",
   "execution_count": 7,
   "metadata": {},
   "outputs": [
    {
     "data": {
      "image/png": "[encoded data removed]",
      "text/plain": [
       "<matplotlib.figure.Figure at 0x7fb12f314940>"
      ]
     },
     "metadata": {},
     "output_type": "display_data"
    }
   ],
   "source": [
    "plt.figure(figsize = (6, 6))\n",
    "plt.title('Greedy routing time $\\\\tau$ while rewiring')\n",
    "plt.xlabel('Rewirings x' + str(K))\n",
    "plt.ylabel('$\\\\tau$')\n",
    "# variance of the mean is 1 / n * variance of one\n",
    "plt.errorbar(range(len(tau_means)), tau_means, yerr = np.array(tau_stds) / repetitions, capsize = 5)\n",
    "plt.show()"
   ]
  },
  {
   "cell_type": "markdown",
   "metadata": {},
   "source": [
    "## Reproducing Figure 1"
   ]
  },
  {
   "cell_type": "code",
   "execution_count": 6,
   "metadata": {},
   "outputs": [],
   "source": [
    "def estimate_tau_after_rewiring(N = 20000, p = 0.1, repetitions = 10000, rewirings = 200000):\n",
    "    '''\n",
    "    Estimate the mean routing time after rewiring the graph using the algorithm proposed\n",
    "    \n",
    "    N -- number of vertices in the graph\n",
    "    p -- probability of rewiring in the algorithm\n",
    "    repetitions -- number of estimates for the mean time\n",
    "    rewirings -- number of rewirings performed\n",
    "    \n",
    "    '''\n",
    "    # initially have 0 shortcuts\n",
    "    shortcuts = [-1] * N\n",
    "\n",
    "    # rewiring the graph\n",
    "    for i in tqdm(range(rewirings)):\n",
    "        shortcuts = rewire_1(shortcuts, p)\n",
    "\n",
    "    # calculating the tau\n",
    "    return shortcuts, get_tau(shortcuts, repetitions = repetitions, tqdm = tqdm)"
   ]
  },
  {
   "cell_type": "markdown",
   "metadata": {},
   "source": [
    "Test of the function"
   ]
  },
  {
   "cell_type": "code",
   "execution_count": 7,
   "metadata": {
    "scrolled": false
   },
   "outputs": [
    {
     "name": "stderr",
     "output_type": "stream",
     "text": [
      "100%|██████████| 100/100 [00:03<00:00, 28.71it/s]\n",
      "100%|██████████| 10/10 [00:00<00:00, 60.08it/s]\n"
     ]
    }
   ],
   "source": [
    "shortcuts, tau = estimate_tau_after_rewiring(N = 10000, p = 0.1, repetitions = 10, rewirings = 100)"
   ]
  },
  {
   "cell_type": "code",
   "execution_count": null,
   "metadata": {},
   "outputs": [
    {
     "data": {
      "text/plain": [
       "[144, 191, 178, 126, 117, 214, 36, 52, 72, 47]"
      ]
     },
     "execution_count": 8,
     "metadata": {},
     "output_type": "execute_result"
    }
   ],
   "source": [
    "tau"
   ]
  },
  {
   "cell_type": "markdown",
   "metadata": {},
   "source": [
    "Calculating with parameters from the paper"
   ]
  },
  {
   "cell_type": "code",
   "execution_count": null,
   "metadata": {},
   "outputs": [
    {
     "name": "stderr",
     "output_type": "stream",
     "text": [
      "100%|██████████| 5000/5000 [00:12<00:00, 410.65it/s]\n",
      "100%|██████████| 500/500 [00:01<00:00, 456.48it/s]\n",
      "100%|██████████| 5000/5000 [00:16<00:00, 303.45it/s]\n",
      "100%|██████████| 500/500 [00:01<00:00, 326.86it/s]\n",
      "100%|██████████| 5000/5000 [00:23<00:00, 216.12it/s]"
     ]
    }
   ],
   "source": [
    "# from 1000 to 100000\n",
    "N_arr = np.logspace(3, 5, 10)\n",
    "\n",
    "# probability of rewiring\n",
    "p = 0.1\n",
    "\n",
    "# rewirings number\n",
    "rewirings = 5000\n",
    "\n",
    "# number for the MC estimate of tau\n",
    "repetitions = 500\n",
    "\n",
    "results = [estimate_tau_after_rewiring(N = int(N), p = p, repetitions = repetitions, rewirings = rewirings) for N in N_arr]"
   ]
  },
  {
   "cell_type": "code",
   "execution_count": null,
   "metadata": {
    "collapsed": true
   },
   "outputs": [],
   "source": []
  }
 ],
 "metadata": {
  "kernelspec": {
   "display_name": "Python 3",
   "language": "python",
   "name": "python3"
  },
  "language_info": {
   "codemirror_mode": {
    "name": "ipython",
    "version": 3
   },
   "file_extension": ".py",
   "mimetype": "text/x-python",
   "name": "python",
   "nbconvert_exporter": "python",
   "pygments_lexer": "ipython3",
   "version": "3.6.2"
  }
 },
 "nbformat": 4,
 "nbformat_minor": 2
}
