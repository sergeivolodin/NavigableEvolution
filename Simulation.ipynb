{
 "cells": [
  {
   "cell_type": "code",
   "execution_count": 1,
   "metadata": {
    "collapsed": true
   },
   "outputs": [],
   "source": [
    "import numpy as np\n",
    "from tqdm import tqdm\n",
    "%matplotlib inline\n",
    "from matplotlib import pyplot as plt"
   ]
  },
  {
   "cell_type": "code",
   "execution_count": 2,
   "metadata": {
    "collapsed": true
   },
   "outputs": [],
   "source": [
    "# distance and its tests\n",
    "def distance(node_1, node_2):\n",
    "    ''' Distance from node_1 to node_2 via the base graph '''\n",
    "    if node_1 >= node_2: return node_1 - node_2\n",
    "    else: return N - node_2 + node_1\n",
    "\n",
    "# some simple tests for the distance    \n",
    "N = 5\n",
    "assert distance(4, 3) == 1\n",
    "assert distance(0, 4) == 1\n",
    "assert distance(3, 4) == 4\n",
    "assert distance(1, 4) == 2"
   ]
  },
  {
   "cell_type": "code",
   "execution_count": 3,
   "metadata": {
    "collapsed": true
   },
   "outputs": [],
   "source": [
    "def navigation(source, destination, shortcuts):\n",
    "    ''' Perform greedy routing on the ring graph s->d using shortcuts or base graph '''\n",
    "    \n",
    "    # initial vertex\n",
    "    current_vertex = source\n",
    "    \n",
    "    # path\n",
    "    path = [current_vertex]\n",
    "    \n",
    "    # waiting until done\n",
    "    while current_vertex != destination:\n",
    "        # going down or via the shortcut\n",
    "        option_0 = (current_vertex - 1) % N\n",
    "        option_1 = shortcuts[current_vertex]\n",
    "        \n",
    "        # all options\n",
    "        options = [option_0, option_1]\n",
    "        \n",
    "        # distances from option to destination\n",
    "        distances = [distance(x, destination) for x in options]\n",
    "        \n",
    "        # GREEDY: choosing the least distance\n",
    "        choice = options[np.argmin(distances)]\n",
    "        \n",
    "        # updating current vertex\n",
    "        current_vertex = choice\n",
    "        path.append(current_vertex)\n",
    "        \n",
    "    # returing path\n",
    "    return path\n",
    "\n",
    "# simple tests\n",
    "N = 5\n",
    "\n",
    "# all lead to 0\n",
    "shortcuts = [0, 0, 0, 0, 0]\n",
    "assert navigation(4, 0, shortcuts) == [4, 0]\n",
    "\n",
    "# all lead to 4\n",
    "shortcuts = [4, 4, 4, 4, 4]\n",
    "assert navigation(4, 0, shortcuts) == [4, 3, 2, 1, 0]\n",
    "\n",
    "# shortcut 3->1\n",
    "shortcuts = [4, 4, 4, 1, 4]\n",
    "assert navigation(4, 0, shortcuts) == [4, 3, 1, 0]"
   ]
  },
  {
   "cell_type": "code",
   "execution_count": 4,
   "metadata": {
    "collapsed": true
   },
   "outputs": [],
   "source": [
    "def get_tau(shortcuts, repetitions = 100):\n",
    "    ''' Perform routing from random to random points using shortcuts and return routing times '''\n",
    "    results = []\n",
    "    for i in range(repetitions):\n",
    "        source = np.random.choice(range(N))\n",
    "        destination = np.random.choice(range(N))\n",
    "        t = navigation(source, destination, shortcuts)\n",
    "        results.append(len(t))\n",
    "    return results"
   ]
  },
  {
   "cell_type": "code",
   "execution_count": 5,
   "metadata": {
    "collapsed": true
   },
   "outputs": [],
   "source": [
    "def rewire_1(shortcuts, p):\n",
    "    # choosing source and destination at random\n",
    "    source = np.random.choice(range(N))\n",
    "    destination = np.random.choice(range(N))\n",
    "    \n",
    "    # doing nothing in degenerate case\n",
    "    if source == destination:\n",
    "        return np.copy(shortcuts)\n",
    "    \n",
    "    # performing a greedy walk\n",
    "    walk = navigation(source, destination, shortcuts)\n",
    "    \n",
    "    # choosing vertices to rewire\n",
    "    do_rewire = np.random.rand(len(walk)) <= p\n",
    "    \n",
    "    # creating a copy of shortcuts\n",
    "    new_shortcuts = np.copy(shortcuts)\n",
    "    \n",
    "    # rewiring vertices\n",
    "    for i, vertex in enumerate(walk):\n",
    "        # if selected with prob. p, set to destination\n",
    "        if do_rewire[i]: new_shortcuts[vertex] = destination\n",
    "            \n",
    "    # returning result\n",
    "    return new_shortcuts"
   ]
  },
  {
   "cell_type": "code",
   "execution_count": 11,
   "metadata": {},
   "outputs": [
    {
     "name": "stderr",
     "output_type": "stream",
     "text": [
      "100%|██████████| 3000/3000 [01:58<00:00, 25.40it/s]\n"
     ]
    }
   ],
   "source": [
    "# number of vertices in the ring graph\n",
    "# Vertices: 0, ..., N-1\n",
    "# connections (base graph): x+1 -> x and 0 -> N - 1\n",
    "# + shortcuts\n",
    "N = 20000\n",
    "\n",
    "# choosing the rewiring probability\n",
    "p = 0.1\n",
    "\n",
    "# choosing random shortcuts\n",
    "shortcuts = np.random.choice(range(N), N)\n",
    "\n",
    "# choosing number of repetitions for tau estimation\n",
    "repetitions = 500\n",
    "\n",
    "# choosing number of rewirings\n",
    "rewirings = 3000\n",
    "\n",
    "# experiment\n",
    "tau_means = []\n",
    "tau_stds = []\n",
    "\n",
    "# estimate tau each K iterations\n",
    "K = 500\n",
    "\n",
    "for i in tqdm(range(rewirings)):\n",
    "    if i % K == 0:\n",
    "        tau = get_tau(shortcuts, repetitions = repetitions)\n",
    "        tau_means.append(np.mean(tau))\n",
    "        tau_stds.append(np.std(tau))\n",
    "    #print('Iteration %d, tau = %f' % (i, tau_mean))\n",
    "    shortcuts = rewire_1(shortcuts, p)"
   ]
  },
  {
   "cell_type": "code",
   "execution_count": 16,
   "metadata": {},
   "outputs": [
    {
     "data": {
      "image/png": "[encoded data removed]",
      "text/plain": [
       "<matplotlib.figure.Figure at 0x7f39b0a4dcf8>"
      ]
     },
     "metadata": {},
     "output_type": "display_data"
    }
   ],
   "source": [
    "plt.figure(figsize = (10, 10))\n",
    "plt.title('Greedy routing time vs. rewiring')\n",
    "plt.title('$\\\\tau$')\n",
    "plt.xlabel('Rewirings x' + str(K))\n",
    "plt.ylabel('$\\\\tau$')\n",
    "plt.errorbar(range(len(tau_means)), tau_means, yerr = tau_stds, capsize = 5)\n",
    "plt.show()"
   ]
  }
 ],
 "metadata": {
  "kernelspec": {
   "display_name": "Python 3",
   "language": "python",
   "name": "python3"
  },
  "language_info": {
   "codemirror_mode": {
    "name": "ipython",
    "version": 3
   },
   "file_extension": ".py",
   "mimetype": "text/x-python",
   "name": "python",
   "nbconvert_exporter": "python",
   "pygments_lexer": "ipython3",
   "version": "3.6.2"
  }
 },
 "nbformat": 4,
 "nbformat_minor": 2
}
